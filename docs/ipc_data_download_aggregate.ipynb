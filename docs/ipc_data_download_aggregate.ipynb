{
 "cells": [
  {
   "cell_type": "code",
   "execution_count": 57,
   "metadata": {},
   "outputs": [],
   "source": [
    "import subprocess\n",
    "import requests\n",
    "import urllib.request\n",
    "import zipfile\n",
    "import os\n",
    "import shutil\n",
    "import geopandas as gpd\n",
    "from bs4 import BeautifulSoup\n",
    "import urllib.request\n",
    "from os import listdir\n",
    "from os.path import isfile, join\n",
    "import pandas as pd\n",
    "import ee\n",
    "import os\n",
    "import glob\n",
    "from zipfile import ZipFile\n",
    "import datetime as dt\n",
    "\n",
    "ee.Initialize()\n"
   ]
  },
  {
   "cell_type": "markdown",
   "metadata": {},
   "source": [
    "# PART 1 DOWNLOAD DATA\n"
   ]
  },
  {
   "cell_type": "code",
   "execution_count": null,
   "metadata": {},
   "outputs": [],
   "source": [
    "ex = ['.shp', '.prj', '.dbf', '.shx']\n",
    "file_paths = []\n",
    "i=1\n",
    "\n",
    "def zipshape(directory,export):\n",
    "    for (root, directories, files) in os.walk(directory):\n",
    "        for filename in files:\n",
    "            if filename.endswith('.shp'):\n",
    "                file_paths=[]\n",
    "                filebase = filename.split('.')[0]\n",
    "                try:\n",
    "                    for things in ex:\n",
    "                        if os.path.exists(os.path.join(root, filebase+things)):\n",
    "                            filepath = os.path.join(root, filebase+things)\n",
    "                            #print(filepath)\n",
    "                            file_paths.append(filepath)\n",
    "                    os.chdir(export)\n",
    "                    if not os.path.exists(filebase+'.zip') and int(len(file_paths))==int(4):\n",
    "                        with ZipFile(filebase+'.zip','w') as zip:\n",
    "                            print(\"Creating zipped folder \"+str(filebase)+'.zip'+' at '+str(export))\n",
    "                            # writing each file one by one\n",
    "                            for file in file_paths:\n",
    "                                fname=os.path.basename(file)\n",
    "                                zip.write(file,fname)\n",
    "                    else:\n",
    "                        print('File already exists: '+str(filebase+'.zip')+' SKIPPING')\n",
    "                except:\n",
    "                    pass\n",
    "                \n",
    "                \n",
    "                \n",
    "mypath = \"../../../data/Shapefile\"\n",
    "url_download_list_zip = []\n",
    "\n",
    "for pagenum in range (0,100):\n",
    "    # Main page url for east africa\n",
    "    #url = \"http://fews.net/fews-data/333?tid=23&field_data_portal_date_start%5Bvalue%5D%5Byear%5D=&field_data_portal_date_start%5Bvalue%5D%5Bmonth%5D=&field_data_portal_date_end%5Bvalue%5D%5Byear%5D=&field_data_portal_date_end%5Bvalue%5D%5Bmonth%5D=&page={0}\".format(pagenum)\n",
    "    url = \"https://fews.net/fews-data/333?tid=34&field_data_portal_date_start%5Bvalue%5D%5Byear%5D=2009&field_data_portal_date_start%5Bvalue%5D%5Bmonth%5D=1&field_data_portal_date_end%5Bvalue%5D%5Byear%5D=2020&field_data_portal_date_end%5Bvalue%5D%5Bmonth%5D=12&page={0}\".format(pagenum)\n",
    "\n",
    "    print(\"Page number:\" + str(pagenum))\n",
    "    resp = urllib.request.urlopen(url)\n",
    "    soup = BeautifulSoup(resp, from_encoding=resp.info().get_param('charset'))\n",
    "    link_list = []\n",
    "    \n",
    "    # Find all links from main page\n",
    "    for link in soup.find_all('a', href=True): \n",
    "        link_list.append(link['href'])\n",
    "        \n",
    "    # if it contains node, it mains that there is data on that page number\n",
    "    if any(\"/node/\" in s for s in link_list):\n",
    "        \n",
    "        # we only need the content link that links to the zipfile data (shapefiles)\n",
    "        url_download_list = [s for s in link_list if \"/content/\" in s]\n",
    "        \n",
    "        #Find all zip files and on that link and save that in a list\n",
    "        for downloadurl in url_download_list:\n",
    "            resp = urllib.request.urlopen(\"http://fews.net/{0}\".format(downloadurl))\n",
    "            soup = BeautifulSoup(resp, \"lxml\", from_encoding=resp.info().get_param('charset'))\n",
    "            \n",
    "            link_list = []\n",
    "            for link in soup.find_all('a', href=True): \n",
    "                link_list.append(link['href'])\n",
    "            url_download_list_zip.append([s for s in link_list if \".zip\" in s][0])  \n",
    "    else:\n",
    "        break\n",
    "        \n",
    "# zip occurs twice in the extracted website link list, remove duplicates:        \n",
    "url_download_list_zip = list(set(url_download_list_zip))\n",
    "\n",
    "#DOWNLOAD FILES \n",
    "for zipfile_url in url_download_list_zip:\n",
    "\n",
    "    filename = zipfile_url.rsplit('/', 1)[-1]\n",
    "\n",
    "    print(\"Downloading shapefile {0}\".format(filename))\n",
    "\n",
    "    urllib.request.urlretrieve('{0}'.format(zipfile_url), '{0}/South_Africa_Zips/{1}'.format(mypath2, filename))\n",
    "    # Extract all files into a single folder:\n",
    "    archive = zipfile.ZipFile('{0}/South_Africa_Zips/{1}'.format(mypath, filename), 'r')\n",
    "    archive.extractall(path=\"{0}/South_Africa_Assets/\".format(mypath))\n",
    "    \n",
    "# Convert files to zips in the folder\n",
    "\n",
    "zipshape(\"C:/Users/ATeklesadik/OneDrive - Rode Kruis/Documents/documents/ethiopia/foodsecurity/data/Shapefile/South_Africa_Assets\",\n",
    "         \"C:/Users/ATeklesadik/OneDrive - Rode Kruis/Documents/documents/ethiopia/foodsecurity/data/Shapefile/South_Africa_Assets_Processed\")\n",
    "\n",
    "# order into three folders     \n",
    "# CREATE FOLDERS AND MOVE FILES \n",
    "\n",
    "# order into three folders \n",
    "mypath2='C:/Users/ATeklesadik/OneDrive - Rode Kruis/Documents/documents/ethiopia/foodsecurity/data/Shapefile'\n",
    "onlyfiles = [f for f in listdir(mypath2 + \"/South_Africa_Assets_Processed/\") if isfile(join(mypath2 + \"/South_Africa_Assets_Processed/\", f))]\n",
    "\n",
    "\n",
    "try:\n",
    "    shutil.rmtree(mypath2 + r\"/CS\") \n",
    "    shutil.rmtree(mypath2 + r\"/ML1\") \n",
    "    shutil.rmtree(mypath2 + r\"/ML2\") \n",
    "except:\n",
    "    print(\"directory doesn't excist yet\")\n",
    "os.mkdir(mypath2 + r\"/CS\")\n",
    "os.mkdir(mypath2 + r\"/ML1\")\n",
    "os.mkdir(mypath2 + r\"/ML2\")\n",
    "\n",
    "#MOVE FILES\n",
    "CS = [s for s in onlyfiles if \"CS\" in s]\n",
    "\n",
    "for file in CS:\n",
    "    shutil.move(mypath2 + \"/South_Africa_Assets_Processed/\" + file, mypath2 + \"/CS\")\n",
    "\n",
    "os.rename(mypath2 + r\"/CS/EA201702_CS.zip\", mypath2 + r\"/CS/EA_201702_CS.zip\")\n",
    "ML1 = [s for s in onlyfiles if \"ML1\" in s]\n",
    "\n",
    "for file in ML1:\n",
    "    shutil.move(mypath2 + \"/South_Africa_Assets_Processed/\" + file, mypath2 + \"/ML1\")\n",
    "    \n",
    "ML2 = [s for s in onlyfiles if \"ML2\" in s]\n",
    "for file in ML2:\n",
    "    shutil.move(mypath2 + \"/South_Africa_Assets_Processed/\" + file, mypath2 + \"/ML2\")"
   ]
  },
  {
   "cell_type": "markdown",
   "metadata": {},
   "source": [
    "# PART 2 EXTRACTION "
   ]
  },
  {
   "cell_type": "code",
   "execution_count": 71,
   "metadata": {},
   "outputs": [
    {
     "name": "stderr",
     "output_type": "stream",
     "text": [
      "C:\\Users\\ATeklesadik\\anaconda3\\envs\\py36\\lib\\site-packages\\numpy\\lib\\function_base.py:2167: RuntimeWarning: invalid value encountered in ? (vectorized)\n",
      "  outputs = ufunc(*inputs)\n"
     ]
    }
   ],
   "source": [
    "\n",
    "path2 ='C:\\\\Users\\\\ATeklesadik\\\\OneDrive - Rode Kruis\\Documents\\\\documents\\\\IBF-system\\\\trigger-model-development\\\\drought\\\\Drought_trigger_dashboard\\\\'\n",
    "\n",
    "lhz = gpd.read_file(path2+'/shapefiles/Ethiopia/ET_LHZ_2018/ET_LHZ_2018.shp')\n",
    "admin = gpd.read_file(path2+'/shapefiles/Ethiopia/eth-administrative-divisions-shapefiles/eth_admbnda_adm2_csa_bofed_20201008.shp')\n",
    "gdf_lhz_admin_merged = gpd.sjoin(lhz,admin,  how=\"right\", op='intersects')\n",
    "gdf_lhz_admin_merged[\"area\"] = gdf_lhz_admin_merged['geometry'].area\n",
    "idx = gdf_lhz_admin_merged.groupby(['LZCODE'])['area'].transform(max) == gdf_lhz_admin_merged['area']\n",
    "df = gdf_lhz_admin_merged[idx]\n",
    "df[['FNID','LZCODE','ADM2_PCODE']].to_csv(os.path.join(path2,'data/lhz_admin_ethiopia.csv'), index=False) "
   ]
  },
  {
   "cell_type": "code",
   "execution_count": 67,
   "metadata": {},
   "outputs": [
    {
     "data": {
      "text/html": [
       "<div>\n",
       "<style scoped>\n",
       "    .dataframe tbody tr th:only-of-type {\n",
       "        vertical-align: middle;\n",
       "    }\n",
       "\n",
       "    .dataframe tbody tr th {\n",
       "        vertical-align: top;\n",
       "    }\n",
       "\n",
       "    .dataframe thead th {\n",
       "        text-align: right;\n",
       "    }\n",
       "</style>\n",
       "<table border=\"1\" class=\"dataframe\">\n",
       "  <thead>\n",
       "    <tr style=\"text-align: right;\">\n",
       "      <th></th>\n",
       "      <th>LZCODE</th>\n",
       "      <th>ADM2_PCODE</th>\n",
       "      <th>area</th>\n",
       "    </tr>\n",
       "    <tr>\n",
       "      <th>index_right</th>\n",
       "      <th></th>\n",
       "      <th></th>\n",
       "      <th></th>\n",
       "    </tr>\n",
       "  </thead>\n",
       "  <tbody>\n",
       "    <tr>\n",
       "      <th>0</th>\n",
       "      <td>ET148</td>\n",
       "      <td>ET0508</td>\n",
       "      <td>3.434585</td>\n",
       "    </tr>\n",
       "    <tr>\n",
       "      <th>0</th>\n",
       "      <td>ET149</td>\n",
       "      <td>ET0508</td>\n",
       "      <td>3.434585</td>\n",
       "    </tr>\n",
       "    <tr>\n",
       "      <th>0</th>\n",
       "      <td>ET157</td>\n",
       "      <td>ET0508</td>\n",
       "      <td>3.434585</td>\n",
       "    </tr>\n",
       "    <tr>\n",
       "      <th>0</th>\n",
       "      <td>ET146</td>\n",
       "      <td>ET0508</td>\n",
       "      <td>3.434585</td>\n",
       "    </tr>\n",
       "    <tr>\n",
       "      <th>0</th>\n",
       "      <td>ET163</td>\n",
       "      <td>ET0508</td>\n",
       "      <td>3.434585</td>\n",
       "    </tr>\n",
       "    <tr>\n",
       "      <th>...</th>\n",
       "      <td>...</td>\n",
       "      <td>...</td>\n",
       "      <td>...</td>\n",
       "    </tr>\n",
       "    <tr>\n",
       "      <th>89</th>\n",
       "      <td>ET164</td>\n",
       "      <td>ET0105</td>\n",
       "      <td>1.113030</td>\n",
       "    </tr>\n",
       "    <tr>\n",
       "      <th>90</th>\n",
       "      <td>ET144</td>\n",
       "      <td>ET0706</td>\n",
       "      <td>0.369007</td>\n",
       "    </tr>\n",
       "    <tr>\n",
       "      <th>90</th>\n",
       "      <td>ET140</td>\n",
       "      <td>ET0706</td>\n",
       "      <td>0.369007</td>\n",
       "    </tr>\n",
       "    <tr>\n",
       "      <th>90</th>\n",
       "      <td>ET123</td>\n",
       "      <td>ET0706</td>\n",
       "      <td>0.369007</td>\n",
       "    </tr>\n",
       "    <tr>\n",
       "      <th>90</th>\n",
       "      <td>ET119</td>\n",
       "      <td>ET0706</td>\n",
       "      <td>0.369007</td>\n",
       "    </tr>\n",
       "  </tbody>\n",
       "</table>\n",
       "<p>187 rows × 3 columns</p>\n",
       "</div>"
      ],
      "text/plain": [
       "            LZCODE ADM2_PCODE      area\n",
       "index_right                            \n",
       "0            ET148     ET0508  3.434585\n",
       "0            ET149     ET0508  3.434585\n",
       "0            ET157     ET0508  3.434585\n",
       "0            ET146     ET0508  3.434585\n",
       "0            ET163     ET0508  3.434585\n",
       "...            ...        ...       ...\n",
       "89           ET164     ET0105  1.113030\n",
       "90           ET144     ET0706  0.369007\n",
       "90           ET140     ET0706  0.369007\n",
       "90           ET123     ET0706  0.369007\n",
       "90           ET119     ET0706  0.369007\n",
       "\n",
       "[187 rows x 3 columns]"
      ]
     },
     "execution_count": 67,
     "metadata": {},
     "output_type": "execute_result"
    }
   ],
   "source": []
  },
  {
   "cell_type": "code",
   "execution_count": 56,
   "metadata": {},
   "outputs": [
    {
     "name": "stderr",
     "output_type": "stream",
     "text": [
      "C:\\Users\\ATeklesadik\\anaconda3\\envs\\py36\\lib\\site-packages\\numpy\\lib\\function_base.py:2167: RuntimeWarning: invalid value encountered in ? (vectorized)\n",
      "  outputs = ufunc(*inputs)\n",
      "C:\\Users\\ATeklesadik\\anaconda3\\envs\\py36\\lib\\site-packages\\numpy\\lib\\function_base.py:2167: RuntimeWarning: invalid value encountered in ? (vectorized)\n",
      "  outputs = ufunc(*inputs)\n",
      "C:\\Users\\ATeklesadik\\anaconda3\\envs\\py36\\lib\\site-packages\\numpy\\lib\\function_base.py:2167: RuntimeWarning: invalid value encountered in ? (vectorized)\n",
      "  outputs = ufunc(*inputs)\n",
      "C:\\Users\\ATeklesadik\\anaconda3\\envs\\py36\\lib\\site-packages\\numpy\\lib\\function_base.py:2167: RuntimeWarning: invalid value encountered in ? (vectorized)\n",
      "  outputs = ufunc(*inputs)\n",
      "C:\\Users\\ATeklesadik\\anaconda3\\envs\\py36\\lib\\site-packages\\numpy\\lib\\function_base.py:2167: RuntimeWarning: invalid value encountered in ? (vectorized)\n",
      "  outputs = ufunc(*inputs)\n",
      "C:\\Users\\ATeklesadik\\anaconda3\\envs\\py36\\lib\\site-packages\\numpy\\lib\\function_base.py:2167: RuntimeWarning: invalid value encountered in ? (vectorized)\n",
      "  outputs = ufunc(*inputs)\n",
      "C:\\Users\\ATeklesadik\\anaconda3\\envs\\py36\\lib\\site-packages\\numpy\\lib\\function_base.py:2167: RuntimeWarning: invalid value encountered in ? (vectorized)\n",
      "  outputs = ufunc(*inputs)\n",
      "C:\\Users\\ATeklesadik\\anaconda3\\envs\\py36\\lib\\site-packages\\numpy\\lib\\function_base.py:2167: RuntimeWarning: invalid value encountered in ? (vectorized)\n",
      "  outputs = ufunc(*inputs)\n",
      "C:\\Users\\ATeklesadik\\anaconda3\\envs\\py36\\lib\\site-packages\\numpy\\lib\\function_base.py:2167: RuntimeWarning: invalid value encountered in ? (vectorized)\n",
      "  outputs = ufunc(*inputs)\n",
      "C:\\Users\\ATeklesadik\\anaconda3\\envs\\py36\\lib\\site-packages\\numpy\\lib\\function_base.py:2167: RuntimeWarning: invalid value encountered in ? (vectorized)\n",
      "  outputs = ufunc(*inputs)\n",
      "C:\\Users\\ATeklesadik\\anaconda3\\envs\\py36\\lib\\site-packages\\numpy\\lib\\function_base.py:2167: RuntimeWarning: invalid value encountered in ? (vectorized)\n",
      "  outputs = ufunc(*inputs)\n",
      "C:\\Users\\ATeklesadik\\anaconda3\\envs\\py36\\lib\\site-packages\\numpy\\lib\\function_base.py:2167: RuntimeWarning: invalid value encountered in ? (vectorized)\n",
      "  outputs = ufunc(*inputs)\n",
      "C:\\Users\\ATeklesadik\\anaconda3\\envs\\py36\\lib\\site-packages\\numpy\\lib\\function_base.py:2167: RuntimeWarning: invalid value encountered in ? (vectorized)\n",
      "  outputs = ufunc(*inputs)\n",
      "C:\\Users\\ATeklesadik\\anaconda3\\envs\\py36\\lib\\site-packages\\numpy\\lib\\function_base.py:2167: RuntimeWarning: invalid value encountered in ? (vectorized)\n",
      "  outputs = ufunc(*inputs)\n",
      "C:\\Users\\ATeklesadik\\anaconda3\\envs\\py36\\lib\\site-packages\\numpy\\lib\\function_base.py:2167: RuntimeWarning: invalid value encountered in ? (vectorized)\n",
      "  outputs = ufunc(*inputs)\n",
      "C:\\Users\\ATeklesadik\\anaconda3\\envs\\py36\\lib\\site-packages\\numpy\\lib\\function_base.py:2167: RuntimeWarning: invalid value encountered in ? (vectorized)\n",
      "  outputs = ufunc(*inputs)\n",
      "C:\\Users\\ATeklesadik\\anaconda3\\envs\\py36\\lib\\site-packages\\numpy\\lib\\function_base.py:2167: RuntimeWarning: invalid value encountered in ? (vectorized)\n",
      "  outputs = ufunc(*inputs)\n",
      "C:\\Users\\ATeklesadik\\anaconda3\\envs\\py36\\lib\\site-packages\\numpy\\lib\\function_base.py:2167: RuntimeWarning: invalid value encountered in ? (vectorized)\n",
      "  outputs = ufunc(*inputs)\n",
      "C:\\Users\\ATeklesadik\\anaconda3\\envs\\py36\\lib\\site-packages\\numpy\\lib\\function_base.py:2167: RuntimeWarning: invalid value encountered in ? (vectorized)\n",
      "  outputs = ufunc(*inputs)\n",
      "C:\\Users\\ATeklesadik\\anaconda3\\envs\\py36\\lib\\site-packages\\numpy\\lib\\function_base.py:2167: RuntimeWarning: invalid value encountered in ? (vectorized)\n",
      "  outputs = ufunc(*inputs)\n",
      "C:\\Users\\ATeklesadik\\anaconda3\\envs\\py36\\lib\\site-packages\\numpy\\lib\\function_base.py:2167: RuntimeWarning: invalid value encountered in ? (vectorized)\n",
      "  outputs = ufunc(*inputs)\n",
      "C:\\Users\\ATeklesadik\\anaconda3\\envs\\py36\\lib\\site-packages\\numpy\\lib\\function_base.py:2167: RuntimeWarning: invalid value encountered in ? (vectorized)\n",
      "  outputs = ufunc(*inputs)\n",
      "C:\\Users\\ATeklesadik\\anaconda3\\envs\\py36\\lib\\site-packages\\numpy\\lib\\function_base.py:2167: RuntimeWarning: invalid value encountered in ? (vectorized)\n",
      "  outputs = ufunc(*inputs)\n",
      "C:\\Users\\ATeklesadik\\anaconda3\\envs\\py36\\lib\\site-packages\\numpy\\lib\\function_base.py:2167: RuntimeWarning: invalid value encountered in ? (vectorized)\n",
      "  outputs = ufunc(*inputs)\n",
      "C:\\Users\\ATeklesadik\\anaconda3\\envs\\py36\\lib\\site-packages\\numpy\\lib\\function_base.py:2167: RuntimeWarning: invalid value encountered in ? (vectorized)\n",
      "  outputs = ufunc(*inputs)\n",
      "C:\\Users\\ATeklesadik\\anaconda3\\envs\\py36\\lib\\site-packages\\numpy\\lib\\function_base.py:2167: RuntimeWarning: invalid value encountered in ? (vectorized)\n",
      "  outputs = ufunc(*inputs)\n",
      "C:\\Users\\ATeklesadik\\anaconda3\\envs\\py36\\lib\\site-packages\\numpy\\lib\\function_base.py:2167: RuntimeWarning: invalid value encountered in ? (vectorized)\n",
      "  outputs = ufunc(*inputs)\n",
      "C:\\Users\\ATeklesadik\\anaconda3\\envs\\py36\\lib\\site-packages\\numpy\\lib\\function_base.py:2167: RuntimeWarning: invalid value encountered in ? (vectorized)\n",
      "  outputs = ufunc(*inputs)\n",
      "C:\\Users\\ATeklesadik\\anaconda3\\envs\\py36\\lib\\site-packages\\numpy\\lib\\function_base.py:2167: RuntimeWarning: invalid value encountered in ? (vectorized)\n",
      "  outputs = ufunc(*inputs)\n",
      "C:\\Users\\ATeklesadik\\anaconda3\\envs\\py36\\lib\\site-packages\\numpy\\lib\\function_base.py:2167: RuntimeWarning: invalid value encountered in ? (vectorized)\n",
      "  outputs = ufunc(*inputs)\n",
      "C:\\Users\\ATeklesadik\\anaconda3\\envs\\py36\\lib\\site-packages\\numpy\\lib\\function_base.py:2167: RuntimeWarning: invalid value encountered in ? (vectorized)\n",
      "  outputs = ufunc(*inputs)\n",
      "C:\\Users\\ATeklesadik\\anaconda3\\envs\\py36\\lib\\site-packages\\numpy\\lib\\function_base.py:2167: RuntimeWarning: invalid value encountered in ? (vectorized)\n",
      "  outputs = ufunc(*inputs)\n",
      "C:\\Users\\ATeklesadik\\anaconda3\\envs\\py36\\lib\\site-packages\\numpy\\lib\\function_base.py:2167: RuntimeWarning: invalid value encountered in ? (vectorized)\n",
      "  outputs = ufunc(*inputs)\n",
      "C:\\Users\\ATeklesadik\\anaconda3\\envs\\py36\\lib\\site-packages\\numpy\\lib\\function_base.py:2167: RuntimeWarning: invalid value encountered in ? (vectorized)\n",
      "  outputs = ufunc(*inputs)\n",
      "C:\\Users\\ATeklesadik\\anaconda3\\envs\\py36\\lib\\site-packages\\numpy\\lib\\function_base.py:2167: RuntimeWarning: invalid value encountered in ? (vectorized)\n",
      "  outputs = ufunc(*inputs)\n",
      "C:\\Users\\ATeklesadik\\anaconda3\\envs\\py36\\lib\\site-packages\\numpy\\lib\\function_base.py:2167: RuntimeWarning: invalid value encountered in ? (vectorized)\n",
      "  outputs = ufunc(*inputs)\n",
      "C:\\Users\\ATeklesadik\\anaconda3\\envs\\py36\\lib\\site-packages\\numpy\\lib\\function_base.py:2167: RuntimeWarning: invalid value encountered in ? (vectorized)\n",
      "  outputs = ufunc(*inputs)\n",
      "C:\\Users\\ATeklesadik\\anaconda3\\envs\\py36\\lib\\site-packages\\numpy\\lib\\function_base.py:2167: RuntimeWarning: invalid value encountered in ? (vectorized)\n",
      "  outputs = ufunc(*inputs)\n",
      "C:\\Users\\ATeklesadik\\anaconda3\\envs\\py36\\lib\\site-packages\\numpy\\lib\\function_base.py:2167: RuntimeWarning: invalid value encountered in ? (vectorized)\n",
      "  outputs = ufunc(*inputs)\n",
      "C:\\Users\\ATeklesadik\\anaconda3\\envs\\py36\\lib\\site-packages\\numpy\\lib\\function_base.py:2167: RuntimeWarning: invalid value encountered in ? (vectorized)\n",
      "  outputs = ufunc(*inputs)\n",
      "C:\\Users\\ATeklesadik\\anaconda3\\envs\\py36\\lib\\site-packages\\numpy\\lib\\function_base.py:2167: RuntimeWarning: invalid value encountered in ? (vectorized)\n",
      "  outputs = ufunc(*inputs)\n",
      "C:\\Users\\ATeklesadik\\anaconda3\\envs\\py36\\lib\\site-packages\\numpy\\lib\\function_base.py:2167: RuntimeWarning: invalid value encountered in ? (vectorized)\n",
      "  outputs = ufunc(*inputs)\n",
      "C:\\Users\\ATeklesadik\\anaconda3\\envs\\py36\\lib\\site-packages\\numpy\\lib\\function_base.py:2167: RuntimeWarning: invalid value encountered in ? (vectorized)\n",
      "  outputs = ufunc(*inputs)\n",
      "C:\\Users\\ATeklesadik\\anaconda3\\envs\\py36\\lib\\site-packages\\numpy\\lib\\function_base.py:2167: RuntimeWarning: invalid value encountered in ? (vectorized)\n",
      "  outputs = ufunc(*inputs)\n",
      "C:\\Users\\ATeklesadik\\anaconda3\\envs\\py36\\lib\\site-packages\\numpy\\lib\\function_base.py:2167: RuntimeWarning: invalid value encountered in ? (vectorized)\n",
      "  outputs = ufunc(*inputs)\n",
      "C:\\Users\\ATeklesadik\\anaconda3\\envs\\py36\\lib\\site-packages\\numpy\\lib\\function_base.py:2167: RuntimeWarning: invalid value encountered in ? (vectorized)\n",
      "  outputs = ufunc(*inputs)\n"
     ]
    },
    {
     "name": "stderr",
     "output_type": "stream",
     "text": [
      "C:\\Users\\ATeklesadik\\anaconda3\\envs\\py36\\lib\\site-packages\\numpy\\lib\\function_base.py:2167: RuntimeWarning: invalid value encountered in ? (vectorized)\n",
      "  outputs = ufunc(*inputs)\n",
      "C:\\Users\\ATeklesadik\\anaconda3\\envs\\py36\\lib\\site-packages\\numpy\\lib\\function_base.py:2167: RuntimeWarning: invalid value encountered in ? (vectorized)\n",
      "  outputs = ufunc(*inputs)\n",
      "C:\\Users\\ATeklesadik\\anaconda3\\envs\\py36\\lib\\site-packages\\numpy\\lib\\function_base.py:2167: RuntimeWarning: invalid value encountered in ? (vectorized)\n",
      "  outputs = ufunc(*inputs)\n",
      "C:\\Users\\ATeklesadik\\anaconda3\\envs\\py36\\lib\\site-packages\\numpy\\lib\\function_base.py:2167: RuntimeWarning: invalid value encountered in ? (vectorized)\n",
      "  outputs = ufunc(*inputs)\n",
      "C:\\Users\\ATeklesadik\\anaconda3\\envs\\py36\\lib\\site-packages\\numpy\\lib\\function_base.py:2167: RuntimeWarning: invalid value encountered in ? (vectorized)\n",
      "  outputs = ufunc(*inputs)\n",
      "C:\\Users\\ATeklesadik\\anaconda3\\envs\\py36\\lib\\site-packages\\numpy\\lib\\function_base.py:2167: RuntimeWarning: invalid value encountered in ? (vectorized)\n",
      "  outputs = ufunc(*inputs)\n",
      "C:\\Users\\ATeklesadik\\anaconda3\\envs\\py36\\lib\\site-packages\\numpy\\lib\\function_base.py:2167: RuntimeWarning: invalid value encountered in ? (vectorized)\n",
      "  outputs = ufunc(*inputs)\n",
      "C:\\Users\\ATeklesadik\\anaconda3\\envs\\py36\\lib\\site-packages\\numpy\\lib\\function_base.py:2167: RuntimeWarning: invalid value encountered in ? (vectorized)\n",
      "  outputs = ufunc(*inputs)\n",
      "C:\\Users\\ATeklesadik\\anaconda3\\envs\\py36\\lib\\site-packages\\numpy\\lib\\function_base.py:2167: RuntimeWarning: invalid value encountered in ? (vectorized)\n",
      "  outputs = ufunc(*inputs)\n",
      "C:\\Users\\ATeklesadik\\anaconda3\\envs\\py36\\lib\\site-packages\\numpy\\lib\\function_base.py:2167: RuntimeWarning: invalid value encountered in ? (vectorized)\n",
      "  outputs = ufunc(*inputs)\n",
      "C:\\Users\\ATeklesadik\\anaconda3\\envs\\py36\\lib\\site-packages\\numpy\\lib\\function_base.py:2167: RuntimeWarning: invalid value encountered in ? (vectorized)\n",
      "  outputs = ufunc(*inputs)\n",
      "C:\\Users\\ATeklesadik\\anaconda3\\envs\\py36\\lib\\site-packages\\numpy\\lib\\function_base.py:2167: RuntimeWarning: invalid value encountered in ? (vectorized)\n",
      "  outputs = ufunc(*inputs)\n",
      "C:\\Users\\ATeklesadik\\anaconda3\\envs\\py36\\lib\\site-packages\\numpy\\lib\\function_base.py:2167: RuntimeWarning: invalid value encountered in ? (vectorized)\n",
      "  outputs = ufunc(*inputs)\n",
      "C:\\Users\\ATeklesadik\\anaconda3\\envs\\py36\\lib\\site-packages\\numpy\\lib\\function_base.py:2167: RuntimeWarning: invalid value encountered in ? (vectorized)\n",
      "  outputs = ufunc(*inputs)\n",
      "C:\\Users\\ATeklesadik\\anaconda3\\envs\\py36\\lib\\site-packages\\numpy\\lib\\function_base.py:2167: RuntimeWarning: invalid value encountered in ? (vectorized)\n",
      "  outputs = ufunc(*inputs)\n",
      "C:\\Users\\ATeklesadik\\anaconda3\\envs\\py36\\lib\\site-packages\\numpy\\lib\\function_base.py:2167: RuntimeWarning: invalid value encountered in ? (vectorized)\n",
      "  outputs = ufunc(*inputs)\n",
      "C:\\Users\\ATeklesadik\\anaconda3\\envs\\py36\\lib\\site-packages\\numpy\\lib\\function_base.py:2167: RuntimeWarning: invalid value encountered in ? (vectorized)\n",
      "  outputs = ufunc(*inputs)\n",
      "C:\\Users\\ATeklesadik\\anaconda3\\envs\\py36\\lib\\site-packages\\numpy\\lib\\function_base.py:2167: RuntimeWarning: invalid value encountered in ? (vectorized)\n",
      "  outputs = ufunc(*inputs)\n",
      "C:\\Users\\ATeklesadik\\anaconda3\\envs\\py36\\lib\\site-packages\\numpy\\lib\\function_base.py:2167: RuntimeWarning: invalid value encountered in ? (vectorized)\n",
      "  outputs = ufunc(*inputs)\n",
      "C:\\Users\\ATeklesadik\\anaconda3\\envs\\py36\\lib\\site-packages\\numpy\\lib\\function_base.py:2167: RuntimeWarning: invalid value encountered in ? (vectorized)\n",
      "  outputs = ufunc(*inputs)\n",
      "C:\\Users\\ATeklesadik\\anaconda3\\envs\\py36\\lib\\site-packages\\numpy\\lib\\function_base.py:2167: RuntimeWarning: invalid value encountered in ? (vectorized)\n",
      "  outputs = ufunc(*inputs)\n",
      "C:\\Users\\ATeklesadik\\anaconda3\\envs\\py36\\lib\\site-packages\\numpy\\lib\\function_base.py:2167: RuntimeWarning: invalid value encountered in ? (vectorized)\n",
      "  outputs = ufunc(*inputs)\n",
      "C:\\Users\\ATeklesadik\\anaconda3\\envs\\py36\\lib\\site-packages\\numpy\\lib\\function_base.py:2167: RuntimeWarning: invalid value encountered in ? (vectorized)\n",
      "  outputs = ufunc(*inputs)\n",
      "C:\\Users\\ATeklesadik\\anaconda3\\envs\\py36\\lib\\site-packages\\numpy\\lib\\function_base.py:2167: RuntimeWarning: invalid value encountered in ? (vectorized)\n",
      "  outputs = ufunc(*inputs)\n",
      "C:\\Users\\ATeklesadik\\anaconda3\\envs\\py36\\lib\\site-packages\\numpy\\lib\\function_base.py:2167: RuntimeWarning: invalid value encountered in ? (vectorized)\n",
      "  outputs = ufunc(*inputs)\n",
      "C:\\Users\\ATeklesadik\\anaconda3\\envs\\py36\\lib\\site-packages\\numpy\\lib\\function_base.py:2167: RuntimeWarning: invalid value encountered in ? (vectorized)\n",
      "  outputs = ufunc(*inputs)\n",
      "C:\\Users\\ATeklesadik\\anaconda3\\envs\\py36\\lib\\site-packages\\numpy\\lib\\function_base.py:2167: RuntimeWarning: invalid value encountered in ? (vectorized)\n",
      "  outputs = ufunc(*inputs)\n",
      "C:\\Users\\ATeklesadik\\anaconda3\\envs\\py36\\lib\\site-packages\\numpy\\lib\\function_base.py:2167: RuntimeWarning: invalid value encountered in ? (vectorized)\n",
      "  outputs = ufunc(*inputs)\n",
      "C:\\Users\\ATeklesadik\\anaconda3\\envs\\py36\\lib\\site-packages\\numpy\\lib\\function_base.py:2167: RuntimeWarning: invalid value encountered in ? (vectorized)\n",
      "  outputs = ufunc(*inputs)\n",
      "C:\\Users\\ATeklesadik\\anaconda3\\envs\\py36\\lib\\site-packages\\numpy\\lib\\function_base.py:2167: RuntimeWarning: invalid value encountered in ? (vectorized)\n",
      "  outputs = ufunc(*inputs)\n",
      "C:\\Users\\ATeklesadik\\anaconda3\\envs\\py36\\lib\\site-packages\\numpy\\lib\\function_base.py:2167: RuntimeWarning: invalid value encountered in ? (vectorized)\n",
      "  outputs = ufunc(*inputs)\n",
      "C:\\Users\\ATeklesadik\\anaconda3\\envs\\py36\\lib\\site-packages\\numpy\\lib\\function_base.py:2167: RuntimeWarning: invalid value encountered in ? (vectorized)\n",
      "  outputs = ufunc(*inputs)\n",
      "C:\\Users\\ATeklesadik\\anaconda3\\envs\\py36\\lib\\site-packages\\numpy\\lib\\function_base.py:2167: RuntimeWarning: invalid value encountered in ? (vectorized)\n",
      "  outputs = ufunc(*inputs)\n",
      "C:\\Users\\ATeklesadik\\anaconda3\\envs\\py36\\lib\\site-packages\\numpy\\lib\\function_base.py:2167: RuntimeWarning: invalid value encountered in ? (vectorized)\n",
      "  outputs = ufunc(*inputs)\n",
      "C:\\Users\\ATeklesadik\\anaconda3\\envs\\py36\\lib\\site-packages\\numpy\\lib\\function_base.py:2167: RuntimeWarning: invalid value encountered in ? (vectorized)\n",
      "  outputs = ufunc(*inputs)\n",
      "C:\\Users\\ATeklesadik\\anaconda3\\envs\\py36\\lib\\site-packages\\numpy\\lib\\function_base.py:2167: RuntimeWarning: invalid value encountered in ? (vectorized)\n",
      "  outputs = ufunc(*inputs)\n"
     ]
    }
   ],
   "source": [
    "############### MOAMBIQUE\n",
    "Country_code='SAP'\n",
    "\n",
    "path2 ='C:\\\\Users\\\\ATeklesadik\\\\OneDrive - Rode Kruis\\Documents\\\\documents\\\\IBF-system\\\\trigger-model-development\\\\drought\\\\Drought_trigger_dashboard\\\\'\n",
    "\n",
    "############### \n",
    "\n",
    "\n",
    "mypath2 ='C:/Users/ATeklesadik/OneDrive - Rode Kruis/Documents/documents/IBF-system/trigger-model-development/drought/Bio_physcial_data/Raw/IPC/'\n",
    "\n",
    "\n",
    "admin= gpd.read_file(path2+'/shapes/SA_admin2_region.shp')\n",
    "lhz = gpd.read_file(path2+'/shapes/MZ_LHZ_2013.shp')\n",
    "\n",
    "CS = [f for f in listdir(mypath2 + \"/South_Africa_Assets_Processed/CS/\") if isfile(join(mypath2 + \"/South_Africa_Assets_Processed/CS/\", f))]\n",
    "ML1 = [f for f in listdir(mypath2 + \"/South_Africa_Assets_Processed/ML1/\") if isfile(join(mypath2 + \"/South_Africa_Assets_Processed/ML1/\", f))]\n",
    "ML2 = [f for f in listdir(mypath2 + \"/South_Africa_Assets_Processed/ML2/\") if isfile(join(mypath2 + \"/South_Africa_Assets_Processed/ML2/\", f))]\n",
    "\n",
    "df_list=list()\n",
    "df_list1=list()\n",
    "for file in CS:\n",
    "    CS_ = gpd.read_file('zip://' +mypath2 + \"/CS/\" +file)\n",
    "    gdf_lhz_cs_merged = gpd.sjoin(CS_,admin,  how=\"right\", op='intersects')\n",
    "    df = gdf_lhz_cs_merged.query('CS < 6')\n",
    "    idx = df.groupby(['ADM2_PCODE'])['CS'].transform(max) == df['CS']\n",
    "    df = df[idx]\n",
    "    df = df[['ADM2_PCODE','CS']]\n",
    "    x = file.split('_')[1] \n",
    "    date_item = dt.datetime(int(x[:4]),int(x[4:]),1).strftime(\"%Y-%m-%d\")\n",
    "    year_item = int(x[:4])\n",
    "    df['Date'] = date_item\n",
    "    df['year'] = year_item\n",
    "    df_list.append(df.query('CS != \"NaN\"'))\n",
    "    \n",
    "    #############################################\n",
    "    gdf_lhz_cs_merged2 = gpd.sjoin(CS_,lhz,  how=\"right\", op='intersects')\n",
    "    df2 = gdf_lhz_cs_merged2.query('CS < 6')\n",
    "    idx2 = df2.groupby(['LZCODE'])['CS'].transform(max) == df2['CS']    \n",
    "    df2 = df2[idx2]\n",
    "    df2 = df2[['LZCODE','CS']]\n",
    "    df2['Date'] = date_item\n",
    "    df2['year'] = year_item\n",
    "    df_list1.append(df2.query('CS != \"NaN\"'))\n",
    "    \n",
    "df1 = pd.concat(df_list)\n",
    "df1.to_csv(os.path.join(path2,'data/ipc_admin_%s.csv'%Country_code), index=False)  \n",
    "\n",
    "df_lhz = pd.concat(df_list1)\n",
    "df_lhz.to_csv(os.path.join(path2,'data/ipc_lhz_%s.csv'%Country_code), index=False) \n",
    "\n",
    "\n",
    "    \n"
   ]
  },
  {
   "cell_type": "code",
   "execution_count": 54,
   "metadata": {},
   "outputs": [],
   "source": [
    "############### KENYA\n",
    "Country_code='KE'\n",
    "path = \"C:/Users/ATeklesadik/OneDrive - Rode Kruis/Documents/documents/ethiopia/foodsecurity/data\"\n",
    "path2 ='C:\\\\Users\\\\ATeklesadik\\\\OneDrive - Rode Kruis\\Documents\\\\documents\\\\IBF-system\\\\trigger-model-development\\\\drought\\\\Drought_trigger_dashboard\\\\'\n",
    "\n",
    "lhz = gpd.read_file(path2+'/shapefiles/kenya/KE_LHZ_2011.shp')\n",
    "admin = gpd.read_file(path2+'/shapefiles/kenya/KEN_Adm2.shp')\n",
    "\n",
    "admin =admin.rename(columns={'DSCodeAdm2':'ADM2_PCODE'}) \n",
    "\n",
    "mypath2='C:/Users/ATeklesadik/OneDrive - Rode Kruis/Documents/documents/ethiopia/foodsecurity/data/Shapefile/East_Africa_Assets_Processed/'\n",
    "\n",
    "CS = [f for f in listdir(mypath2 + \"/CS/\") if isfile(join(mypath2 + \"/CS/\", f))]\n",
    "ML1 = [f for f in listdir(mypath2 + \"/ML1/\") if isfile(join(mypath2 + \"/ML1/\", f))]\n",
    "ML2 = [f for f in listdir(mypath2 + \"/ML2/\") if isfile(join(mypath2 + \"/ML2/\", f))]\n",
    "\n",
    "df_list=list()\n",
    "df_list1=list()\n",
    "for file in CS:\n",
    "    CS_ = gpd.read_file('zip://' +mypath2 + \"/CS/\" +file)\n",
    "    gdf_lhz_cs_merged = gpd.sjoin(CS_,admin,  how=\"right\", op='intersects')\n",
    "    df = gdf_lhz_cs_merged.query('CS < 6')\n",
    "    idx = df.groupby(['ADM2_PCODE'])['CS'].transform(max) == df['CS']\n",
    "    df = df[idx]\n",
    "    df = df[['ADM2_PCODE','CS']]\n",
    "    x = file.split('_')[1] \n",
    "    date_item = dt.datetime(int(x[:4]),int(x[4:]),1).strftime(\"%Y-%m-%d\")\n",
    "    year_item = int(x[:4])\n",
    "    df['Date'] = date_item\n",
    "    df['year'] = year_item\n",
    "    df_list.append(df.query('CS != \"NaN\"'))\n",
    "    \n",
    "    #############################################\n",
    "    gdf_lhz_cs_merged2 = gpd.sjoin(CS_,lhz,  how=\"right\", op='intersects')\n",
    "    df2 = gdf_lhz_cs_merged2.query('CS < 6')\n",
    "    idx2 = df2.groupby(['LZCODE'])['CS'].transform(max) == df2['CS']    \n",
    "    df2 = df2[idx2]\n",
    "    df2 = df2[['LZCODE','CS']]\n",
    "    df2['Date'] = date_item\n",
    "    df2['year'] = year_item\n",
    "    df_list1.append(df2.query('CS != \"NaN\"'))\n",
    "    \n",
    "df1 = pd.concat(df_list)\n",
    "df1.to_csv(os.path.join(path2,'data/ipc_admin_%s.csv'%Country_code), index=False)  \n",
    "\n",
    "df_lhz = pd.concat(df_list1)\n",
    "df_lhz.to_csv(os.path.join(path2,'data/ipc_lhz_%s.csv'%Country_code), index=False) \n",
    "\n",
    "\n",
    "    \n"
   ]
  },
  {
   "cell_type": "code",
   "execution_count": 48,
   "metadata": {},
   "outputs": [
    {
     "name": "stdout",
     "output_type": "stream",
     "text": [
      "EA_200907_CS.zip\n"
     ]
    },
    {
     "name": "stderr",
     "output_type": "stream",
     "text": [
      "C:\\Users\\ATeklesadik\\anaconda3\\envs\\py36\\lib\\site-packages\\numpy\\lib\\function_base.py:2167: RuntimeWarning: invalid value encountered in ? (vectorized)\n",
      "  outputs = ufunc(*inputs)\n",
      "C:\\Users\\ATeklesadik\\anaconda3\\envs\\py36\\lib\\site-packages\\numpy\\lib\\function_base.py:2167: RuntimeWarning: invalid value encountered in ? (vectorized)\n",
      "  outputs = ufunc(*inputs)\n"
     ]
    },
    {
     "name": "stdout",
     "output_type": "stream",
     "text": [
      "EA_200910_CS.zip\n"
     ]
    },
    {
     "name": "stderr",
     "output_type": "stream",
     "text": [
      "C:\\Users\\ATeklesadik\\anaconda3\\envs\\py36\\lib\\site-packages\\numpy\\lib\\function_base.py:2167: RuntimeWarning: invalid value encountered in ? (vectorized)\n",
      "  outputs = ufunc(*inputs)\n",
      "C:\\Users\\ATeklesadik\\anaconda3\\envs\\py36\\lib\\site-packages\\numpy\\lib\\function_base.py:2167: RuntimeWarning: invalid value encountered in ? (vectorized)\n",
      "  outputs = ufunc(*inputs)\n"
     ]
    },
    {
     "name": "stdout",
     "output_type": "stream",
     "text": [
      "EA_201001_CS.zip\n"
     ]
    },
    {
     "name": "stderr",
     "output_type": "stream",
     "text": [
      "C:\\Users\\ATeklesadik\\anaconda3\\envs\\py36\\lib\\site-packages\\numpy\\lib\\function_base.py:2167: RuntimeWarning: invalid value encountered in ? (vectorized)\n",
      "  outputs = ufunc(*inputs)\n",
      "C:\\Users\\ATeklesadik\\anaconda3\\envs\\py36\\lib\\site-packages\\numpy\\lib\\function_base.py:2167: RuntimeWarning: invalid value encountered in ? (vectorized)\n",
      "  outputs = ufunc(*inputs)\n"
     ]
    },
    {
     "name": "stdout",
     "output_type": "stream",
     "text": [
      "EA_201004_CS.zip\n"
     ]
    },
    {
     "name": "stderr",
     "output_type": "stream",
     "text": [
      "C:\\Users\\ATeklesadik\\anaconda3\\envs\\py36\\lib\\site-packages\\numpy\\lib\\function_base.py:2167: RuntimeWarning: invalid value encountered in ? (vectorized)\n",
      "  outputs = ufunc(*inputs)\n",
      "C:\\Users\\ATeklesadik\\anaconda3\\envs\\py36\\lib\\site-packages\\numpy\\lib\\function_base.py:2167: RuntimeWarning: invalid value encountered in ? (vectorized)\n",
      "  outputs = ufunc(*inputs)\n"
     ]
    },
    {
     "name": "stdout",
     "output_type": "stream",
     "text": [
      "EA_201007_CS.zip\n"
     ]
    },
    {
     "name": "stderr",
     "output_type": "stream",
     "text": [
      "C:\\Users\\ATeklesadik\\anaconda3\\envs\\py36\\lib\\site-packages\\numpy\\lib\\function_base.py:2167: RuntimeWarning: invalid value encountered in ? (vectorized)\n",
      "  outputs = ufunc(*inputs)\n",
      "C:\\Users\\ATeklesadik\\anaconda3\\envs\\py36\\lib\\site-packages\\numpy\\lib\\function_base.py:2167: RuntimeWarning: invalid value encountered in ? (vectorized)\n",
      "  outputs = ufunc(*inputs)\n"
     ]
    },
    {
     "name": "stdout",
     "output_type": "stream",
     "text": [
      "EA_201010_CS.zip\n"
     ]
    },
    {
     "name": "stderr",
     "output_type": "stream",
     "text": [
      "C:\\Users\\ATeklesadik\\anaconda3\\envs\\py36\\lib\\site-packages\\numpy\\lib\\function_base.py:2167: RuntimeWarning: invalid value encountered in ? (vectorized)\n",
      "  outputs = ufunc(*inputs)\n",
      "C:\\Users\\ATeklesadik\\anaconda3\\envs\\py36\\lib\\site-packages\\numpy\\lib\\function_base.py:2167: RuntimeWarning: invalid value encountered in ? (vectorized)\n",
      "  outputs = ufunc(*inputs)\n"
     ]
    },
    {
     "name": "stdout",
     "output_type": "stream",
     "text": [
      "EA_201101_CS.zip\n"
     ]
    },
    {
     "name": "stderr",
     "output_type": "stream",
     "text": [
      "C:\\Users\\ATeklesadik\\anaconda3\\envs\\py36\\lib\\site-packages\\numpy\\lib\\function_base.py:2167: RuntimeWarning: invalid value encountered in ? (vectorized)\n",
      "  outputs = ufunc(*inputs)\n",
      "C:\\Users\\ATeklesadik\\anaconda3\\envs\\py36\\lib\\site-packages\\numpy\\lib\\function_base.py:2167: RuntimeWarning: invalid value encountered in ? (vectorized)\n",
      "  outputs = ufunc(*inputs)\n"
     ]
    },
    {
     "name": "stdout",
     "output_type": "stream",
     "text": [
      "EA_201104_CS.zip\n"
     ]
    },
    {
     "name": "stderr",
     "output_type": "stream",
     "text": [
      "C:\\Users\\ATeklesadik\\anaconda3\\envs\\py36\\lib\\site-packages\\numpy\\lib\\function_base.py:2167: RuntimeWarning: invalid value encountered in ? (vectorized)\n",
      "  outputs = ufunc(*inputs)\n",
      "C:\\Users\\ATeklesadik\\anaconda3\\envs\\py36\\lib\\site-packages\\numpy\\lib\\function_base.py:2167: RuntimeWarning: invalid value encountered in ? (vectorized)\n",
      "  outputs = ufunc(*inputs)\n"
     ]
    },
    {
     "name": "stdout",
     "output_type": "stream",
     "text": [
      "EA_201107_CS.zip\n"
     ]
    },
    {
     "name": "stderr",
     "output_type": "stream",
     "text": [
      "C:\\Users\\ATeklesadik\\anaconda3\\envs\\py36\\lib\\site-packages\\numpy\\lib\\function_base.py:2167: RuntimeWarning: invalid value encountered in ? (vectorized)\n",
      "  outputs = ufunc(*inputs)\n",
      "C:\\Users\\ATeklesadik\\anaconda3\\envs\\py36\\lib\\site-packages\\numpy\\lib\\function_base.py:2167: RuntimeWarning: invalid value encountered in ? (vectorized)\n",
      "  outputs = ufunc(*inputs)\n"
     ]
    },
    {
     "name": "stdout",
     "output_type": "stream",
     "text": [
      "EA_201110_CS.zip\n"
     ]
    },
    {
     "name": "stderr",
     "output_type": "stream",
     "text": [
      "C:\\Users\\ATeklesadik\\anaconda3\\envs\\py36\\lib\\site-packages\\numpy\\lib\\function_base.py:2167: RuntimeWarning: invalid value encountered in ? (vectorized)\n",
      "  outputs = ufunc(*inputs)\n",
      "C:\\Users\\ATeklesadik\\anaconda3\\envs\\py36\\lib\\site-packages\\numpy\\lib\\function_base.py:2167: RuntimeWarning: invalid value encountered in ? (vectorized)\n",
      "  outputs = ufunc(*inputs)\n"
     ]
    },
    {
     "name": "stdout",
     "output_type": "stream",
     "text": [
      "EA_201201_CS.zip\n"
     ]
    },
    {
     "name": "stderr",
     "output_type": "stream",
     "text": [
      "C:\\Users\\ATeklesadik\\anaconda3\\envs\\py36\\lib\\site-packages\\numpy\\lib\\function_base.py:2167: RuntimeWarning: invalid value encountered in ? (vectorized)\n",
      "  outputs = ufunc(*inputs)\n",
      "C:\\Users\\ATeklesadik\\anaconda3\\envs\\py36\\lib\\site-packages\\numpy\\lib\\function_base.py:2167: RuntimeWarning: invalid value encountered in ? (vectorized)\n",
      "  outputs = ufunc(*inputs)\n"
     ]
    },
    {
     "name": "stdout",
     "output_type": "stream",
     "text": [
      "EA_201204_CS.zip\n"
     ]
    },
    {
     "name": "stderr",
     "output_type": "stream",
     "text": [
      "C:\\Users\\ATeklesadik\\anaconda3\\envs\\py36\\lib\\site-packages\\numpy\\lib\\function_base.py:2167: RuntimeWarning: invalid value encountered in ? (vectorized)\n",
      "  outputs = ufunc(*inputs)\n",
      "C:\\Users\\ATeklesadik\\anaconda3\\envs\\py36\\lib\\site-packages\\numpy\\lib\\function_base.py:2167: RuntimeWarning: invalid value encountered in ? (vectorized)\n",
      "  outputs = ufunc(*inputs)\n"
     ]
    },
    {
     "name": "stdout",
     "output_type": "stream",
     "text": [
      "EA_201207_CS.zip\n"
     ]
    },
    {
     "name": "stderr",
     "output_type": "stream",
     "text": [
      "C:\\Users\\ATeklesadik\\anaconda3\\envs\\py36\\lib\\site-packages\\numpy\\lib\\function_base.py:2167: RuntimeWarning: invalid value encountered in ? (vectorized)\n",
      "  outputs = ufunc(*inputs)\n",
      "C:\\Users\\ATeklesadik\\anaconda3\\envs\\py36\\lib\\site-packages\\numpy\\lib\\function_base.py:2167: RuntimeWarning: invalid value encountered in ? (vectorized)\n",
      "  outputs = ufunc(*inputs)\n"
     ]
    },
    {
     "name": "stdout",
     "output_type": "stream",
     "text": [
      "EA_201210_CS.zip\n"
     ]
    },
    {
     "name": "stderr",
     "output_type": "stream",
     "text": [
      "C:\\Users\\ATeklesadik\\anaconda3\\envs\\py36\\lib\\site-packages\\numpy\\lib\\function_base.py:2167: RuntimeWarning: invalid value encountered in ? (vectorized)\n",
      "  outputs = ufunc(*inputs)\n",
      "C:\\Users\\ATeklesadik\\anaconda3\\envs\\py36\\lib\\site-packages\\numpy\\lib\\function_base.py:2167: RuntimeWarning: invalid value encountered in ? (vectorized)\n",
      "  outputs = ufunc(*inputs)\n"
     ]
    },
    {
     "name": "stdout",
     "output_type": "stream",
     "text": [
      "EA_201301_CS.zip\n"
     ]
    },
    {
     "name": "stderr",
     "output_type": "stream",
     "text": [
      "C:\\Users\\ATeklesadik\\anaconda3\\envs\\py36\\lib\\site-packages\\numpy\\lib\\function_base.py:2167: RuntimeWarning: invalid value encountered in ? (vectorized)\n",
      "  outputs = ufunc(*inputs)\n",
      "C:\\Users\\ATeklesadik\\anaconda3\\envs\\py36\\lib\\site-packages\\numpy\\lib\\function_base.py:2167: RuntimeWarning: invalid value encountered in ? (vectorized)\n",
      "  outputs = ufunc(*inputs)\n"
     ]
    },
    {
     "name": "stdout",
     "output_type": "stream",
     "text": [
      "EA_201304_CS.zip\n"
     ]
    },
    {
     "name": "stderr",
     "output_type": "stream",
     "text": [
      "C:\\Users\\ATeklesadik\\anaconda3\\envs\\py36\\lib\\site-packages\\numpy\\lib\\function_base.py:2167: RuntimeWarning: invalid value encountered in ? (vectorized)\n",
      "  outputs = ufunc(*inputs)\n",
      "C:\\Users\\ATeklesadik\\anaconda3\\envs\\py36\\lib\\site-packages\\numpy\\lib\\function_base.py:2167: RuntimeWarning: invalid value encountered in ? (vectorized)\n",
      "  outputs = ufunc(*inputs)\n"
     ]
    },
    {
     "name": "stdout",
     "output_type": "stream",
     "text": [
      "EA_201307_CS.zip\n"
     ]
    },
    {
     "name": "stderr",
     "output_type": "stream",
     "text": [
      "C:\\Users\\ATeklesadik\\anaconda3\\envs\\py36\\lib\\site-packages\\numpy\\lib\\function_base.py:2167: RuntimeWarning: invalid value encountered in ? (vectorized)\n",
      "  outputs = ufunc(*inputs)\n",
      "C:\\Users\\ATeklesadik\\anaconda3\\envs\\py36\\lib\\site-packages\\numpy\\lib\\function_base.py:2167: RuntimeWarning: invalid value encountered in ? (vectorized)\n",
      "  outputs = ufunc(*inputs)\n"
     ]
    },
    {
     "name": "stdout",
     "output_type": "stream",
     "text": [
      "EA_201310_CS.zip\n"
     ]
    },
    {
     "name": "stderr",
     "output_type": "stream",
     "text": [
      "C:\\Users\\ATeklesadik\\anaconda3\\envs\\py36\\lib\\site-packages\\numpy\\lib\\function_base.py:2167: RuntimeWarning: invalid value encountered in ? (vectorized)\n",
      "  outputs = ufunc(*inputs)\n",
      "C:\\Users\\ATeklesadik\\anaconda3\\envs\\py36\\lib\\site-packages\\numpy\\lib\\function_base.py:2167: RuntimeWarning: invalid value encountered in ? (vectorized)\n",
      "  outputs = ufunc(*inputs)\n"
     ]
    },
    {
     "name": "stdout",
     "output_type": "stream",
     "text": [
      "EA_201401_CS.zip\n"
     ]
    },
    {
     "name": "stderr",
     "output_type": "stream",
     "text": [
      "C:\\Users\\ATeklesadik\\anaconda3\\envs\\py36\\lib\\site-packages\\numpy\\lib\\function_base.py:2167: RuntimeWarning: invalid value encountered in ? (vectorized)\n",
      "  outputs = ufunc(*inputs)\n",
      "C:\\Users\\ATeklesadik\\anaconda3\\envs\\py36\\lib\\site-packages\\numpy\\lib\\function_base.py:2167: RuntimeWarning: invalid value encountered in ? (vectorized)\n",
      "  outputs = ufunc(*inputs)\n"
     ]
    },
    {
     "name": "stdout",
     "output_type": "stream",
     "text": [
      "EA_201404_CS.zip\n"
     ]
    },
    {
     "name": "stderr",
     "output_type": "stream",
     "text": [
      "C:\\Users\\ATeklesadik\\anaconda3\\envs\\py36\\lib\\site-packages\\numpy\\lib\\function_base.py:2167: RuntimeWarning: invalid value encountered in ? (vectorized)\n",
      "  outputs = ufunc(*inputs)\n",
      "C:\\Users\\ATeklesadik\\anaconda3\\envs\\py36\\lib\\site-packages\\numpy\\lib\\function_base.py:2167: RuntimeWarning: invalid value encountered in ? (vectorized)\n",
      "  outputs = ufunc(*inputs)\n"
     ]
    },
    {
     "name": "stdout",
     "output_type": "stream",
     "text": [
      "EA_201407_CS.zip\n"
     ]
    },
    {
     "name": "stderr",
     "output_type": "stream",
     "text": [
      "C:\\Users\\ATeklesadik\\anaconda3\\envs\\py36\\lib\\site-packages\\numpy\\lib\\function_base.py:2167: RuntimeWarning: invalid value encountered in ? (vectorized)\n",
      "  outputs = ufunc(*inputs)\n",
      "C:\\Users\\ATeklesadik\\anaconda3\\envs\\py36\\lib\\site-packages\\numpy\\lib\\function_base.py:2167: RuntimeWarning: invalid value encountered in ? (vectorized)\n",
      "  outputs = ufunc(*inputs)\n"
     ]
    },
    {
     "name": "stdout",
     "output_type": "stream",
     "text": [
      "EA_201410_CS.zip\n"
     ]
    },
    {
     "name": "stderr",
     "output_type": "stream",
     "text": [
      "C:\\Users\\ATeklesadik\\anaconda3\\envs\\py36\\lib\\site-packages\\numpy\\lib\\function_base.py:2167: RuntimeWarning: invalid value encountered in ? (vectorized)\n",
      "  outputs = ufunc(*inputs)\n",
      "C:\\Users\\ATeklesadik\\anaconda3\\envs\\py36\\lib\\site-packages\\numpy\\lib\\function_base.py:2167: RuntimeWarning: invalid value encountered in ? (vectorized)\n",
      "  outputs = ufunc(*inputs)\n"
     ]
    },
    {
     "name": "stdout",
     "output_type": "stream",
     "text": [
      "EA_201501_CS.zip\n"
     ]
    },
    {
     "name": "stderr",
     "output_type": "stream",
     "text": [
      "C:\\Users\\ATeklesadik\\anaconda3\\envs\\py36\\lib\\site-packages\\numpy\\lib\\function_base.py:2167: RuntimeWarning: invalid value encountered in ? (vectorized)\n",
      "  outputs = ufunc(*inputs)\n",
      "C:\\Users\\ATeklesadik\\anaconda3\\envs\\py36\\lib\\site-packages\\numpy\\lib\\function_base.py:2167: RuntimeWarning: invalid value encountered in ? (vectorized)\n",
      "  outputs = ufunc(*inputs)\n"
     ]
    },
    {
     "name": "stdout",
     "output_type": "stream",
     "text": [
      "EA_201504_CS.zip\n"
     ]
    },
    {
     "name": "stderr",
     "output_type": "stream",
     "text": [
      "C:\\Users\\ATeklesadik\\anaconda3\\envs\\py36\\lib\\site-packages\\numpy\\lib\\function_base.py:2167: RuntimeWarning: invalid value encountered in ? (vectorized)\n",
      "  outputs = ufunc(*inputs)\n",
      "C:\\Users\\ATeklesadik\\anaconda3\\envs\\py36\\lib\\site-packages\\numpy\\lib\\function_base.py:2167: RuntimeWarning: invalid value encountered in ? (vectorized)\n",
      "  outputs = ufunc(*inputs)\n"
     ]
    },
    {
     "name": "stdout",
     "output_type": "stream",
     "text": [
      "EA_201507_CS.zip\n"
     ]
    },
    {
     "name": "stderr",
     "output_type": "stream",
     "text": [
      "C:\\Users\\ATeklesadik\\anaconda3\\envs\\py36\\lib\\site-packages\\numpy\\lib\\function_base.py:2167: RuntimeWarning: invalid value encountered in ? (vectorized)\n",
      "  outputs = ufunc(*inputs)\n",
      "C:\\Users\\ATeklesadik\\anaconda3\\envs\\py36\\lib\\site-packages\\numpy\\lib\\function_base.py:2167: RuntimeWarning: invalid value encountered in ? (vectorized)\n",
      "  outputs = ufunc(*inputs)\n"
     ]
    },
    {
     "name": "stdout",
     "output_type": "stream",
     "text": [
      "EA_201510_CS.zip\n"
     ]
    },
    {
     "name": "stderr",
     "output_type": "stream",
     "text": [
      "C:\\Users\\ATeklesadik\\anaconda3\\envs\\py36\\lib\\site-packages\\numpy\\lib\\function_base.py:2167: RuntimeWarning: invalid value encountered in ? (vectorized)\n",
      "  outputs = ufunc(*inputs)\n",
      "C:\\Users\\ATeklesadik\\anaconda3\\envs\\py36\\lib\\site-packages\\numpy\\lib\\function_base.py:2167: RuntimeWarning: invalid value encountered in ? (vectorized)\n",
      "  outputs = ufunc(*inputs)\n"
     ]
    },
    {
     "name": "stdout",
     "output_type": "stream",
     "text": [
      "EA_201602_CS.zip\n"
     ]
    },
    {
     "name": "stderr",
     "output_type": "stream",
     "text": [
      "C:\\Users\\ATeklesadik\\anaconda3\\envs\\py36\\lib\\site-packages\\numpy\\lib\\function_base.py:2167: RuntimeWarning: invalid value encountered in ? (vectorized)\n",
      "  outputs = ufunc(*inputs)\n",
      "C:\\Users\\ATeklesadik\\anaconda3\\envs\\py36\\lib\\site-packages\\numpy\\lib\\function_base.py:2167: RuntimeWarning: invalid value encountered in ? (vectorized)\n",
      "  outputs = ufunc(*inputs)\n"
     ]
    },
    {
     "name": "stdout",
     "output_type": "stream",
     "text": [
      "EA_201606_CS.zip\n"
     ]
    },
    {
     "name": "stderr",
     "output_type": "stream",
     "text": [
      "C:\\Users\\ATeklesadik\\anaconda3\\envs\\py36\\lib\\site-packages\\numpy\\lib\\function_base.py:2167: RuntimeWarning: invalid value encountered in ? (vectorized)\n",
      "  outputs = ufunc(*inputs)\n",
      "C:\\Users\\ATeklesadik\\anaconda3\\envs\\py36\\lib\\site-packages\\numpy\\lib\\function_base.py:2167: RuntimeWarning: invalid value encountered in ? (vectorized)\n",
      "  outputs = ufunc(*inputs)\n"
     ]
    },
    {
     "name": "stdout",
     "output_type": "stream",
     "text": [
      "EA_201610_CS.zip\n"
     ]
    },
    {
     "name": "stderr",
     "output_type": "stream",
     "text": [
      "C:\\Users\\ATeklesadik\\anaconda3\\envs\\py36\\lib\\site-packages\\numpy\\lib\\function_base.py:2167: RuntimeWarning: invalid value encountered in ? (vectorized)\n",
      "  outputs = ufunc(*inputs)\n",
      "C:\\Users\\ATeklesadik\\anaconda3\\envs\\py36\\lib\\site-packages\\numpy\\lib\\function_base.py:2167: RuntimeWarning: invalid value encountered in ? (vectorized)\n",
      "  outputs = ufunc(*inputs)\n"
     ]
    },
    {
     "name": "stdout",
     "output_type": "stream",
     "text": [
      "EA_201702_CS.zip\n"
     ]
    },
    {
     "name": "stderr",
     "output_type": "stream",
     "text": [
      "C:\\Users\\ATeklesadik\\anaconda3\\envs\\py36\\lib\\site-packages\\numpy\\lib\\function_base.py:2167: RuntimeWarning: invalid value encountered in ? (vectorized)\n",
      "  outputs = ufunc(*inputs)\n",
      "C:\\Users\\ATeklesadik\\anaconda3\\envs\\py36\\lib\\site-packages\\numpy\\lib\\function_base.py:2167: RuntimeWarning: invalid value encountered in ? (vectorized)\n",
      "  outputs = ufunc(*inputs)\n"
     ]
    },
    {
     "name": "stdout",
     "output_type": "stream",
     "text": [
      "EA_201706_CS.zip\n"
     ]
    },
    {
     "name": "stderr",
     "output_type": "stream",
     "text": [
      "C:\\Users\\ATeklesadik\\anaconda3\\envs\\py36\\lib\\site-packages\\numpy\\lib\\function_base.py:2167: RuntimeWarning: invalid value encountered in ? (vectorized)\n",
      "  outputs = ufunc(*inputs)\n",
      "C:\\Users\\ATeklesadik\\anaconda3\\envs\\py36\\lib\\site-packages\\numpy\\lib\\function_base.py:2167: RuntimeWarning: invalid value encountered in ? (vectorized)\n",
      "  outputs = ufunc(*inputs)\n"
     ]
    },
    {
     "name": "stdout",
     "output_type": "stream",
     "text": [
      "EA_201710_CS.zip\n"
     ]
    },
    {
     "name": "stderr",
     "output_type": "stream",
     "text": [
      "C:\\Users\\ATeklesadik\\anaconda3\\envs\\py36\\lib\\site-packages\\numpy\\lib\\function_base.py:2167: RuntimeWarning: invalid value encountered in ? (vectorized)\n",
      "  outputs = ufunc(*inputs)\n",
      "C:\\Users\\ATeklesadik\\anaconda3\\envs\\py36\\lib\\site-packages\\numpy\\lib\\function_base.py:2167: RuntimeWarning: invalid value encountered in ? (vectorized)\n",
      "  outputs = ufunc(*inputs)\n"
     ]
    },
    {
     "name": "stdout",
     "output_type": "stream",
     "text": [
      "EA_201802_CS.zip\n"
     ]
    },
    {
     "name": "stderr",
     "output_type": "stream",
     "text": [
      "C:\\Users\\ATeklesadik\\anaconda3\\envs\\py36\\lib\\site-packages\\numpy\\lib\\function_base.py:2167: RuntimeWarning: invalid value encountered in ? (vectorized)\n",
      "  outputs = ufunc(*inputs)\n",
      "C:\\Users\\ATeklesadik\\anaconda3\\envs\\py36\\lib\\site-packages\\numpy\\lib\\function_base.py:2167: RuntimeWarning: invalid value encountered in ? (vectorized)\n",
      "  outputs = ufunc(*inputs)\n"
     ]
    },
    {
     "name": "stdout",
     "output_type": "stream",
     "text": [
      "EA_201806_CS.zip\n"
     ]
    },
    {
     "name": "stderr",
     "output_type": "stream",
     "text": [
      "C:\\Users\\ATeklesadik\\anaconda3\\envs\\py36\\lib\\site-packages\\numpy\\lib\\function_base.py:2167: RuntimeWarning: invalid value encountered in ? (vectorized)\n",
      "  outputs = ufunc(*inputs)\n",
      "C:\\Users\\ATeklesadik\\anaconda3\\envs\\py36\\lib\\site-packages\\numpy\\lib\\function_base.py:2167: RuntimeWarning: invalid value encountered in ? (vectorized)\n",
      "  outputs = ufunc(*inputs)\n"
     ]
    },
    {
     "name": "stdout",
     "output_type": "stream",
     "text": [
      "EA_201810_CS.zip\n"
     ]
    },
    {
     "name": "stderr",
     "output_type": "stream",
     "text": [
      "C:\\Users\\ATeklesadik\\anaconda3\\envs\\py36\\lib\\site-packages\\numpy\\lib\\function_base.py:2167: RuntimeWarning: invalid value encountered in ? (vectorized)\n",
      "  outputs = ufunc(*inputs)\n",
      "C:\\Users\\ATeklesadik\\anaconda3\\envs\\py36\\lib\\site-packages\\numpy\\lib\\function_base.py:2167: RuntimeWarning: invalid value encountered in ? (vectorized)\n",
      "  outputs = ufunc(*inputs)\n"
     ]
    },
    {
     "name": "stdout",
     "output_type": "stream",
     "text": [
      "EA_201812_CS.zip\n"
     ]
    },
    {
     "name": "stderr",
     "output_type": "stream",
     "text": [
      "C:\\Users\\ATeklesadik\\anaconda3\\envs\\py36\\lib\\site-packages\\numpy\\lib\\function_base.py:2167: RuntimeWarning: invalid value encountered in ? (vectorized)\n",
      "  outputs = ufunc(*inputs)\n",
      "C:\\Users\\ATeklesadik\\anaconda3\\envs\\py36\\lib\\site-packages\\numpy\\lib\\function_base.py:2167: RuntimeWarning: invalid value encountered in ? (vectorized)\n",
      "  outputs = ufunc(*inputs)\n"
     ]
    },
    {
     "name": "stdout",
     "output_type": "stream",
     "text": [
      "EA_201902_CS.zip\n"
     ]
    },
    {
     "name": "stderr",
     "output_type": "stream",
     "text": [
      "C:\\Users\\ATeklesadik\\anaconda3\\envs\\py36\\lib\\site-packages\\numpy\\lib\\function_base.py:2167: RuntimeWarning: invalid value encountered in ? (vectorized)\n",
      "  outputs = ufunc(*inputs)\n",
      "C:\\Users\\ATeklesadik\\anaconda3\\envs\\py36\\lib\\site-packages\\numpy\\lib\\function_base.py:2167: RuntimeWarning: invalid value encountered in ? (vectorized)\n",
      "  outputs = ufunc(*inputs)\n"
     ]
    },
    {
     "name": "stdout",
     "output_type": "stream",
     "text": [
      "EA_201906_CS.zip\n"
     ]
    },
    {
     "name": "stderr",
     "output_type": "stream",
     "text": [
      "C:\\Users\\ATeklesadik\\anaconda3\\envs\\py36\\lib\\site-packages\\numpy\\lib\\function_base.py:2167: RuntimeWarning: invalid value encountered in ? (vectorized)\n",
      "  outputs = ufunc(*inputs)\n",
      "C:\\Users\\ATeklesadik\\anaconda3\\envs\\py36\\lib\\site-packages\\numpy\\lib\\function_base.py:2167: RuntimeWarning: invalid value encountered in ? (vectorized)\n",
      "  outputs = ufunc(*inputs)\n"
     ]
    }
   ],
   "source": [
    "############### ETHOPIA\n",
    "Country_code='ETH'\n",
    "path = \"C:/Users/ATeklesadik/OneDrive - Rode Kruis/Documents/documents/ethiopia/foodsecurity/data\"\n",
    "path2 ='C:\\\\Users\\\\ATeklesadik\\\\OneDrive - Rode Kruis\\Documents\\\\documents\\\\IBF-system\\\\trigger-model-development\\\\drought\\\\Drought_trigger_dashboard\\\\'\n",
    "\n",
    "lhz = gpd.read_file(path2+'/shapefiles/Ethiopia/ET_LHZ_2018/ET_LHZ_2018.shp')\n",
    "admin = gpd.read_file(path2+'/shapefiles/Ethiopia/eth-administrative-divisions-shapefiles/eth_admbnda_adm2_csa_bofed_20201008.shp')\n",
    "\n",
    "\n",
    "mypath2='C:/Users/ATeklesadik/OneDrive - Rode Kruis/Documents/documents/ethiopia/foodsecurity/data/Shapefile/East_Africa_Assets_Processed/'\n",
    "\n",
    "CS = [f for f in listdir(mypath2 + \"/CS/\") if isfile(join(mypath2 + \"/CS/\", f))]\n",
    "ML1 = [f for f in listdir(mypath2 + \"/ML1/\") if isfile(join(mypath2 + \"/ML1/\", f))]\n",
    "ML2 = [f for f in listdir(mypath2 + \"/ML2/\") if isfile(join(mypath2 + \"/ML2/\", f))]\n",
    "\n",
    "df_list=list()\n",
    "df_list1=list()\n",
    "for file in CS:\n",
    "    CS_ = gpd.read_file('zip://' +mypath2 + \"/CS/\" +file)\n",
    "    gdf_lhz_cs_merged = gpd.sjoin(CS_,admin,  how=\"right\", op='intersects')\n",
    "    df = gdf_lhz_cs_merged.query('CS < 6')\n",
    "    idx = df.groupby(['ADM2_PCODE'])['CS'].transform(max) == df['CS']\n",
    "    df = df[idx]\n",
    "    df = df[['ADM2_PCODE','CS']]\n",
    "    x = file.split('_')[1] \n",
    "    date_item = dt.datetime(int(x[:4]),int(x[4:]),1).strftime(\"%Y-%m-%d\")\n",
    "    year_item = int(x[:4])\n",
    "    df['Date'] = date_item\n",
    "    df['year'] = year_item\n",
    "    df_list.append(df.query('CS != \"NaN\"'))\n",
    "    \n",
    "    #############################################\n",
    "    gdf_lhz_cs_merged2 = gpd.sjoin(CS_,lhz,  how=\"right\", op='intersects')\n",
    "    df2 = gdf_lhz_cs_merged2.query('CS < 6')\n",
    "    idx2 = df2.groupby(['LZCODE'])['CS'].transform(max) == df2['CS']    \n",
    "    df2 = df2[idx2]\n",
    "    df2 = df2[['LZCODE','CS']]\n",
    "    df2['Date'] = date_item\n",
    "    df2['year'] = year_item\n",
    "    df_list1.append(df2.query('CS != \"NaN\"'))\n",
    "    \n",
    "df1 = pd.concat(df_list)\n",
    "df1.to_csv(os.path.join(path2,'/data/ipc_admin_%s.csv'%Country_code), index=False)  \n",
    "\n",
    "df_lhz = pd.concat(df_list1)\n",
    "df_lhz.to_csv(os.path.join(path2,'/data/ipc_lhz_%s.csv'%Country_code), index=False) \n",
    "\n",
    "\n",
    "    \n",
    " "
   ]
  },
  {
   "cell_type": "code",
   "execution_count": null,
   "metadata": {},
   "outputs": [],
   "source": [
    "pop_ETH = pd.read_csv(path + \"/Shapefile/Ethiopia/Indicators_3_population.csv\", sep = \";\")\n",
    "DATA_ETH = pd.read_csv(path + \"/Processed Data/df_master_03092020.csv\", sep = \";\")\n",
    "\n",
    "WOREDA['pcode']=WOREDA['WOR_P_CODE'].apply(lambda x: 'ET'+x)\n",
    "WOREDA=WOREDA.merge(pop_ETH, left_on='pcode', right_on='pcode')\n",
    "WOREDA.crs = {'init' :'epsg:20137'}\n",
    "WOREDA = WOREDA.to_crs({'init': 'epsg:4326'})  "
   ]
  },
  {
   "cell_type": "code",
   "execution_count": null,
   "metadata": {},
   "outputs": [],
   "source": []
  }
 ],
 "metadata": {
  "kernelspec": {
   "display_name": "Python 3",
   "language": "python",
   "name": "python3"
  },
  "language_info": {
   "codemirror_mode": {
    "name": "ipython",
    "version": 3
   },
   "file_extension": ".py",
   "mimetype": "text/x-python",
   "name": "python",
   "nbconvert_exporter": "python",
   "pygments_lexer": "ipython3",
   "version": "3.8.8"
  }
 },
 "nbformat": 4,
 "nbformat_minor": 4
}
